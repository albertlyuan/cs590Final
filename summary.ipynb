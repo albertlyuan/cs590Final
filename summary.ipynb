{
 "cells": [
  {
   "cell_type": "code",
   "execution_count": 42,
   "metadata": {},
   "outputs": [
    {
     "name": "stdout",
     "output_type": "stream",
     "text": [
      "   year  month carrier       carrier_name airport  \\\n",
      "0  2022     11      9E  Endeavor Air Inc.     ABY   \n",
      "1  2022     11      9E  Endeavor Air Inc.     AEX   \n",
      "2  2022     11      9E  Endeavor Air Inc.     AGS   \n",
      "3  2022     11      9E  Endeavor Air Inc.     ALB   \n",
      "4  2022     11      9E  Endeavor Air Inc.     ATL   \n",
      "\n",
      "                                        airport_name  arr_flights  arr_del15  \\\n",
      "0             Albany, GA: Southwest Georgia Regional         86.0        2.0   \n",
      "1           Alexandria, LA: Alexandria International         59.0        5.0   \n",
      "2        Augusta, GA: Augusta Regional at Bush Field         21.0        1.0   \n",
      "3                   Albany, NY: Albany International         98.0       15.0   \n",
      "4  Atlanta, GA: Hartsfield-Jackson Atlanta Intern...       1143.0      114.0   \n",
      "\n",
      "   carrier_ct  weather_ct  ...  security_ct  late_aircraft_ct  arr_cancelled  \\\n",
      "0        0.00        0.74  ...          0.0              0.00            0.0   \n",
      "1        1.77        0.00  ...          0.0              1.29            0.0   \n",
      "2        0.01        0.00  ...          0.0              0.99            0.0   \n",
      "3        5.11        0.00  ...          0.0              7.20            3.0   \n",
      "4       28.67        2.26  ...          0.0             45.80            3.0   \n",
      "\n",
      "   arr_diverted  arr_delay  carrier_delay  weather_delay  nas_delay  \\\n",
      "0           0.0       54.0            0.0           26.0       28.0   \n",
      "1           0.0      290.0          178.0            0.0       69.0   \n",
      "2           0.0      118.0            1.0            0.0        0.0   \n",
      "3           0.0     1270.0          334.0            0.0       62.0   \n",
      "4           1.0    10874.0         5451.0          128.0     1071.0   \n",
      "\n",
      "   security_delay  late_aircraft_delay  \n",
      "0             0.0                  0.0  \n",
      "1             0.0                 43.0  \n",
      "2             0.0                117.0  \n",
      "3             0.0                874.0  \n",
      "4             0.0               4224.0  \n",
      "\n",
      "[5 rows x 21 columns]\n"
     ]
    }
   ],
   "source": [
    "import pandas as pd\n",
    "import numpy as np\n",
    "import matplotlib.pyplot as plt\n",
    "import scipy.stats as st\n",
    "\n",
    "df = pd.read_csv(\"Airline_Delay_Cause.csv\")\n",
    "print(df.head())"
   ]
  },
  {
   "cell_type": "code",
   "execution_count": 39,
   "metadata": {},
   "outputs": [
    {
     "name": "stdout",
     "output_type": "stream",
     "text": [
      "num airlines: 17\n",
      "mean delay per flight: 0.18416570559141937\n"
     ]
    },
    {
     "data": {
      "text/plain": [
       "{'whiskers': [<matplotlib.lines.Line2D at 0x20a2c5b5090>,\n",
       "  <matplotlib.lines.Line2D at 0x20a2c5b52a0>],\n",
       " 'caps': [<matplotlib.lines.Line2D at 0x20a2c5b5540>,\n",
       "  <matplotlib.lines.Line2D at 0x20a2c5b57e0>],\n",
       " 'boxes': [<matplotlib.lines.Line2D at 0x20a2c5b4df0>],\n",
       " 'medians': [<matplotlib.lines.Line2D at 0x20a2c5b5a80>],\n",
       " 'fliers': [<matplotlib.lines.Line2D at 0x20a2c5b5d20>],\n",
       " 'means': []}"
      ]
     },
     "execution_count": 39,
     "metadata": {},
     "output_type": "execute_result"
    },
    {
     "data": {
      "image/png": "[encoded data removed]",
      "text/plain": [
       "<Figure size 640x480 with 1 Axes>"
      ]
     },
     "metadata": {},
     "output_type": "display_data"
    }
   ],
   "source": [
    "#number of delays per airline per flight  \n",
    "groupbyCarrier = df.groupby(\"carrier_name\")\n",
    "# print(grouped.head())\n",
    "a = groupbyCarrier[[\"arr_flights\", \"arr_del15\"]].sum()\n",
    "a[\"delay/flight\"] = a[\"arr_del15\"]/a[\"arr_flights\"]\n",
    "\n",
    "delay_per_flight = a[\"delay/flight\"]\n",
    "# print(delay_per_flight)\n",
    "print(\"num airlines:\",len(delay_per_flight))\n",
    "print(\"mean delay per flight:\", np.mean(delay_per_flight))\n",
    "\n",
    "plt.boxplot(delay_per_flight)\n"
   ]
  },
  {
   "cell_type": "code",
   "execution_count": 24,
   "metadata": {},
   "outputs": [
    {
     "name": "stdout",
     "output_type": "stream",
     "text": [
      "(0.15812467358306861, 0.21020673759977013)\n",
      "                        arr_flights  arr_del15  delay/flight  extreme\n",
      "carrier_name                                                         \n",
      "Alaska Airlines Inc.       419034.0    71979.0      0.171774    False\n",
      "Allegiant Air              236640.0    69153.0      0.292229     True\n",
      "American Airlines Inc.    1611371.0   302822.0      0.187928    False\n",
      "Delta Air Lines Inc.      1664052.0   221700.0      0.133229     True\n",
      "Endeavor Air Inc.          525074.0    59092.0      0.112540     True\n",
      "Envoy Air                  517640.0    80131.0      0.154801     True\n",
      "Frontier Airlines Inc.     293474.0    73819.0      0.251535     True\n",
      "Hawaiian Airlines Inc.     133818.0    20646.0      0.154284     True\n",
      "Horizon Air                194866.0    27006.0      0.138588     True\n",
      "JetBlue Airways            473580.0   131449.0      0.277565     True\n",
      "Mesa Airlines Inc.         289256.0    54201.0      0.187381    False\n",
      "PSA Airlines Inc.          450868.0    72117.0      0.159951    False\n",
      "Republic Airline           668572.0   104077.0      0.155671     True\n",
      "SkyWest Airlines Inc.     1542262.0   235318.0      0.152580     True\n",
      "Southwest Airlines Co.    2390140.0   518265.0      0.216835     True\n",
      "Spirit Air Lines           427561.0    90544.0      0.211769     True\n",
      "United Air Lines Inc.     1064943.0   183340.0      0.172159    False\n"
     ]
    },
    {
     "name": "stderr",
     "output_type": "stream",
     "text": [
      "C:\\Users\\fuzzi\\AppData\\Local\\Temp\\ipykernel_2936\\128280788.py:2: DeprecationWarning: Use of keyword argument `alpha` for method `interval` is deprecated. Use first positional argument or keyword argument `confidence` instead.\n",
      "  interval = st.t.interval(alpha=0.95,\n"
     ]
    }
   ],
   "source": [
    "#conf interval\n",
    "interval = st.t.interval(alpha=0.95,\n",
    "              df=len(delay_per_flight)-1,\n",
    "              loc=np.mean(delay_per_flight), \n",
    "              scale=st.sem(delay_per_flight))\n",
    "print(interval)\n",
    "\n",
    "a[\"extreme\"] = a.apply(lambda x: (x[\"delay/flight\"] < interval[0]) or (x[\"delay/flight\"] > interval[1]), axis=1)\n",
    "print(a)"
   ]
  },
  {
   "cell_type": "code",
   "execution_count": null,
   "metadata": {},
   "outputs": [],
   "source": [
    "#amount of delay (min) per airline per flight"
   ]
  },
  {
   "cell_type": "code",
   "execution_count": 50,
   "metadata": {},
   "outputs": [
    {
     "name": "stdout",
     "output_type": "stream",
     "text": [
      "num airlines: 340\n",
      "mean delay per flight: 0.16913923324037097\n"
     ]
    },
    {
     "data": {
      "text/plain": [
       "{'whiskers': [<matplotlib.lines.Line2D at 0x20a2cb23ac0>,\n",
       "  <matplotlib.lines.Line2D at 0x20a2cb23d60>],\n",
       " 'caps': [<matplotlib.lines.Line2D at 0x20a2cb4c040>,\n",
       "  <matplotlib.lines.Line2D at 0x20a2cb4c2e0>],\n",
       " 'boxes': [<matplotlib.lines.Line2D at 0x20a2cb23820>],\n",
       " 'medians': [<matplotlib.lines.Line2D at 0x20a2cb4c580>],\n",
       " 'fliers': [<matplotlib.lines.Line2D at 0x20a2cb4c820>],\n",
       " 'means': []}"
      ]
     },
     "execution_count": 50,
     "metadata": {},
     "output_type": "execute_result"
    },
    {
     "data": {
      "image/png": "[encoded data removed]",
      "text/plain": [
       "<Figure size 640x480 with 1 Axes>"
      ]
     },
     "metadata": {},
     "output_type": "display_data"
    }
   ],
   "source": [
    "#number of delays per airport\n",
    "groupbyAirport = df.groupby(\"airport_name\")\n",
    "b = groupbyAirport[[\"arr_flights\", \"arr_del15\"]].sum()\n",
    "b[\"delay/flight\"] = b[\"arr_del15\"]/b[\"arr_flights\"]\n",
    "b = b[b[\"arr_flights\"] > 1000]\n",
    "\n",
    "delay_per_flight_aiport = b[\"delay/flight\"]\n",
    "# print(delay_per_flight)\n",
    "print(\"num airlines:\",len(delay_per_flight_aiport))\n",
    "print(\"mean delay per flight:\", np.mean(delay_per_flight_aiport))\n",
    "\n",
    "plt.boxplot(delay_per_flight_aiport)"
   ]
  },
  {
   "cell_type": "code",
   "execution_count": 51,
   "metadata": {},
   "outputs": [
    {
     "name": "stdout",
     "output_type": "stream",
     "text": [
      "(0.16453960020490352, 0.17373886627583843)\n",
      "340\n",
      "307\n",
      "                                                    arr_flights  arr_del15  \\\n",
      "airport_name                                                                 \n",
      "Punta Gorda, FL: Punta Gorda Airport                    12495.0     4585.0   \n",
      "Aguadilla, PR: Rafael Hernandez                          3721.0     1348.0   \n",
      "St. Petersburg, FL: St Pete Clearwater Internat...      15867.0     4927.0   \n",
      "Sanford, FL: Orlando Sanford International              19333.0     5990.0   \n",
      "Phoenix, AZ: Phoenix - Mesa Gateway                     12087.0     3699.0   \n",
      "\n",
      "                                                    delay/flight  extreme  \n",
      "airport_name                                                               \n",
      "Punta Gorda, FL: Punta Gorda Airport                    0.366947     True  \n",
      "Aguadilla, PR: Rafael Hernandez                         0.362268     True  \n",
      "St. Petersburg, FL: St Pete Clearwater Internat...      0.310519     True  \n",
      "Sanford, FL: Orlando Sanford International              0.309833     True  \n",
      "Phoenix, AZ: Phoenix - Mesa Gateway                     0.306031     True  \n"
     ]
    },
    {
     "name": "stderr",
     "output_type": "stream",
     "text": [
      "C:\\Users\\fuzzi\\AppData\\Local\\Temp\\ipykernel_2936\\3177789928.py:3: DeprecationWarning: Use of keyword argument `alpha` for method `interval` is deprecated. Use first positional argument or keyword argument `confidence` instead.\n",
      "  interval_airports = st.t.interval(alpha=0.95,\n"
     ]
    }
   ],
   "source": [
    "#conf interval\n",
    "\n",
    "interval_airports = st.t.interval(alpha=0.95,\n",
    "              df=len(delay_per_flight_aiport)-1,\n",
    "              loc=np.mean(delay_per_flight_aiport), \n",
    "              scale=st.sem(delay_per_flight_aiport))\n",
    "print(interval_airports)\n",
    "\n",
    "b[\"extreme\"] = b.apply(lambda x: (x[\"delay/flight\"] < interval_airports[0]) or (x[\"delay/flight\"] > interval_airports[1]), axis=1)\n",
    "\n",
    "print(len(b))\n",
    "print(len(b[b[\"extreme\"]]))\n",
    "b = b.sort_values(by=['delay/flight'], ascending=False)\n",
    "print(b.head())"
   ]
  }
 ],
 "metadata": {
  "kernelspec": {
   "display_name": "Python 3",
   "language": "python",
   "name": "python3"
  },
  "language_info": {
   "codemirror_mode": {
    "name": "ipython",
    "version": 3
   },
   "file_extension": ".py",
   "mimetype": "text/x-python",
   "name": "python",
   "nbconvert_exporter": "python",
   "pygments_lexer": "ipython3",
   "version": "3.10.10"
  },
  "orig_nbformat": 4
 },
 "nbformat": 4,
 "nbformat_minor": 2
}
